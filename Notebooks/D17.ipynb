{
  "nbformat": 4,
  "nbformat_minor": 0,
  "metadata": {
    "colab": {
      "name": "D17.ipynb",
      "provenance": [],
      "authorship_tag": "ABX9TyMVMYaU3n7RpjzlbcPfJWAu",
      "include_colab_link": true
    },
    "kernelspec": {
      "name": "python3",
      "display_name": "Python 3"
    },
    "language_info": {
      "name": "python"
    }
  },
  "cells": [
    {
      "cell_type": "markdown",
      "metadata": {
        "id": "view-in-github",
        "colab_type": "text"
      },
      "source": [
        "<a href=\"https://colab.research.google.com/github/rishabhprasad2003/.ipynb-notebooks/blob/main/Notebooks/D17.ipynb\" target=\"_parent\"><img src=\"https://colab.research.google.com/assets/colab-badge.svg\" alt=\"Open In Colab\"/></a>"
      ]
    },
    {
      "cell_type": "code",
      "execution_count": null,
      "metadata": {
        "id": "cMXvS2EGl_X3"
      },
      "outputs": [],
      "source": [
        "#11. CHECKER BOARD OR CHESS BOARD\n",
        "\n",
        "import numpy as np \n",
        "import cv2\n",
        "\n",
        "img = np.zeros((200,200,3)) #200 x 200 pixels black boackground\n",
        "img[0:100,0:100] = 255,255,255   #white\n",
        "img[100:200,100:200] = 255,255,255\n",
        "cv2.imshow('CHESS BOARD',img)\n",
        "\n",
        "cv2.waitKey(0)\n",
        "cv2.destroyAllWindows()\n"
      ]
    },
    {
      "cell_type": "code",
      "source": [
        "#12. HSV FILTER (HUE,SATURATION, VALUE/LUMINOSITY)\n",
        "\n",
        "import numpy as np\n",
        "import cv2\n",
        "\n",
        "img = cv2.imread('abc.jpg')  #reading the image\n",
        "img_hsv = cv2.cvtColor(img,cv2.COLOR_BGR2HSV)\n",
        "cv2.imshow('HSV FILTER',img_hsv)\n",
        "\n",
        "cv2.imshow('HUE FILTER',img_hsv[:,:,0])  #HUE\n",
        "cv2.imshow('SATURATION FILTER',img_hsv[:,:,1]) #SATURATION FILTER\n",
        "cv2.imshow('VALUE FILTER',img_hsv[:,:,2]) #VALUE FILTER\n",
        "\n",
        "cv2.waitKey(0)\n",
        "cv2.destroyAllWindows()"
      ],
      "metadata": {
        "id": "AiP3piJqqhTG"
      },
      "execution_count": null,
      "outputs": []
    },
    {
      "cell_type": "code",
      "source": [
        "#13. EDGE DETECTION - 3 main types\n",
        "#1. SOBEL , 2. LAPLACIAN , 3.CANNY\n",
        "#SOBEL TECHNIQUE (Take only sudoku image)\n",
        "\n",
        "import cv2\n",
        "img = cv2.imread('su.png',0) # to create into gray scale\n",
        "sobel_x = cv2.Sobel(img,cv2.CV_8U,dx = 1,dy = 0,ksize = -1)\n",
        "#cv_8U - insigned 8 bit/pixel\n",
        "#kernal - will define the size of convolution\n",
        "\n",
        "sobel_y = cv2.Sobel(img,cv2.CV_8U,dx = 0,dy = 1,ksize = -1)\n",
        "sobel_f = cv2.bitwise_or(sobel_x,sobel_y)  #consvolution happens\n",
        "\n",
        "cv2.imshow('SOBEL X IMAGE',sobel_x)\n",
        "cv2.imshow('SOBEL Y IMAGE',sobel_y)\n",
        "cv2.imshow('SOBEL IMAGE',sobel_f)\n",
        "\n",
        "cv2.waitKey(0)\n",
        "cv2.destroyAllWindows()\n"
      ],
      "metadata": {
        "id": "cafrfiAvoR03"
      },
      "execution_count": null,
      "outputs": []
    },
    {
      "cell_type": "code",
      "source": [
        "#14. LAPLACIAN AND CANNY\n",
        "\n",
        "import cv2\n",
        "\n",
        "img = cv2.imread('123.jpg',0)\n",
        "\n",
        "\n",
        "laplacian = cv2.Laplacian(img,cv2.CV_8U)\n",
        "cv2.imshow('LAPLACIAN IMAGE',laplacian)\n",
        "\n",
        "canny = cv2.Canny(img,90,200) #90,200 is threshhold and maximum value\n",
        "cv2.imshow('CANNY IMAGE',canny)\n",
        "\n",
        "cv2.waitKey(0)\n",
        "cv2.destroyAllWindows()\n"
      ],
      "metadata": {
        "id": "XGGrVJEcqu6I"
      },
      "execution_count": null,
      "outputs": []
    },
    {
      "cell_type": "code",
      "source": [
        "#15.RESIZING AN IMAGE - SCALING AN IMAGE\n",
        "\n",
        "import cv2\n",
        "import numpy as np\n",
        "\n",
        "img = cv2.imread('abc.jpg')\n",
        "cv2.imshow('ORIGIANL IMAGE',img)\n",
        "cv2.waitKey(2000)\n",
        "\n",
        "#SCALE DOWN THE IMAGE\n",
        "img_sc = cv2.resize(img,None,fx = 0.75,fy = 0.75)\n",
        "cv2.imshow('SCALE DOWN',img_sc)\n",
        "\n",
        "#SCALE UP THE IMAGE\n",
        "img_sc1 = cv2.resize(img,None,fx = 2,fy = 2)\n",
        "cv2.imshow('SCALE UP',img_sc1)\n",
        "\n",
        "#SCALING USING THE CUSTOM DIMENSIONS\n",
        "img_sc2 = cv2.resize(img,(1000,400))  #1000 is length in pixel, 400 is breadth in pixel\n",
        "cv2.imshow('SCALING - CUSTOM DIMENSIONS',img_sc2)\n",
        "\n",
        "cv2.waitKey(0)\n",
        "cv2.destroyAllWindows()\n"
      ],
      "metadata": {
        "id": "1Frw6w15tdQM"
      },
      "execution_count": null,
      "outputs": []
    },
    {
      "cell_type": "code",
      "source": [
        "#16. RECTANGLE\n",
        "\n",
        "import cv2\n",
        "import numpy as np\n",
        "\n",
        "img = np.zeros((500,500,3)) #black background\n",
        "\n",
        "#cv2.rectangle(source,start point, end point,color, thickness)\n",
        "cv2.rectangle(img,(200,200),(450,450),(0,255,0),5)\n",
        "\n",
        "cv2.imshow('RECTANGLE',img)\n",
        "\n",
        "cv2.waitKey(0)\n",
        "cv2.destroyAllWindows()\n"
      ],
      "metadata": {
        "id": "Cw1MeGqAwEDe"
      },
      "execution_count": null,
      "outputs": []
    },
    {
      "cell_type": "code",
      "source": [
        "#17. CIRCLE\n",
        "\n",
        "import cv2\n",
        "import numpy as np\n",
        "\n",
        "img = np.zeros((500,500,3))\n",
        "\n",
        "cv2.circle(img,(200,200),100,(255,0,0),5)\n",
        "\n",
        "cv2.imshow('CIRLCE',img)\n",
        "\n",
        "cv2.waitKey(0)\n",
        "cv2.destroyAllWindows()\n"
      ],
      "metadata": {
        "id": "l446q2J6x7xP"
      },
      "execution_count": null,
      "outputs": []
    }
  ]
}