{
  "nbformat": 4,
  "nbformat_minor": 0,
  "metadata": {
    "colab": {
      "name": "D16.ipynb",
      "provenance": [],
      "authorship_tag": "ABX9TyMjjHCa884aIt/dY7TdaqWE",
      "include_colab_link": true
    },
    "kernelspec": {
      "name": "python3",
      "display_name": "Python 3"
    },
    "language_info": {
      "name": "python"
    }
  },
  "cells": [
    {
      "cell_type": "markdown",
      "metadata": {
        "id": "view-in-github",
        "colab_type": "text"
      },
      "source": [
        "<a href=\"https://colab.research.google.com/github/rishabhprasad2003/.ipynb-notebooks/blob/main/Notebooks/D16.ipynb\" target=\"_parent\"><img src=\"https://colab.research.google.com/assets/colab-badge.svg\" alt=\"Open In Colab\"/></a>"
      ]
    },
    {
      "cell_type": "code",
      "execution_count": null,
      "metadata": {
        "id": "QHMVlHxglYpA"
      },
      "outputs": [],
      "source": [
        "#6. BINARY IMAGE CONVERSION (HIGH contrast)\n",
        "import cv2\n",
        "img = cv2.imread('abc.jpg',0)  # 0 is given to get grayscale image\n",
        "cv2.imshow('GRAY SCALE IMAGE',img) #display gray scale image\n",
        "# imread is to read a image\n",
        "# imshow is to show a image\n",
        "cv2.waitKey(2000) #2000 - is 2 seconds delay\n",
        "\n",
        "#========== cv2.threshold(src,thres value, max val, type of conversion)\n",
        "ret,binary = cv2.threshold(img,127,255,cv2.THRESH_BINARY)\n",
        "#ret is a dummy variable, we do not use it anywhere\n",
        "#only binary variable is taken into consideration\n",
        "\n",
        "cv2.imshow('BINARY IMAGE',binary)\n",
        "cv2.waitKey(0)\n",
        "cv2.destroyAllWindows()\n"
      ]
    },
    {
      "cell_type": "code",
      "source": [
        "#7. SOLID BACKGROUNDS - BLACK or WHITE\n",
        "#create a white backgroung using openCV numpy\n",
        "\n",
        "import numpy as np\n",
        "import cv2\n",
        "\n",
        "img = np.ones((500,500,3)) #500 is length in pixels, 500 is breadth, 3 is the channel number(3 primary color)\n",
        "cv2.imshow('White Background',img)\n",
        "cv2.waitKey(0)\n",
        "cv2.destroyAllWindows()\n",
        "\n",
        "#Make it as np.zeros for black color\n"
      ],
      "metadata": {
        "id": "8S60-Lp5o1_0"
      },
      "execution_count": null,
      "outputs": []
    },
    {
      "cell_type": "code",
      "source": [
        ""
      ],
      "metadata": {
        "id": "HY63d2P9z4D_"
      },
      "execution_count": null,
      "outputs": []
    },
    {
      "cell_type": "code",
      "source": [
        "#8. SOLID COLORS - RGB\n",
        "#RED color background\n",
        "\n",
        "import numpy as np\n",
        "import cv2\n",
        "img = np.zeros((250,250,3))  #black backgorund\n",
        "#img[:] will select the whole image\n",
        "img[:] = 0,0,255   # we assign the color(B,G,R)\n",
        "\n",
        "cv2.imshow('RED',img)\n",
        "cv2.waitKey(4000)\n",
        "cv2.destroyAllWindows()\n",
        "\n",
        "#for green   img[:] = 0,255,0\n",
        "#for blue    img[:] = 255,0,0 \n"
      ],
      "metadata": {
        "id": "R-W4OT49p45z"
      },
      "execution_count": null,
      "outputs": []
    },
    {
      "cell_type": "code",
      "source": [
        "#9. ALL THE 3 SOLID/PRIMARY COLORS IN ONE SINGLE IMAGE\n",
        "\n",
        "import cv2\n",
        "import numpy as np\n",
        "img = np.zeros((300,300,3))\n",
        "img[0:100,0:300] = 0,255,0  #Green color\n",
        "#here img slicing is as(y,x) i.e. 0:100 - means 0 to 100 in y axis\n",
        "#and 0:300 - means 0 to 300 in x axis\n",
        "#img[y-coordinate, x-coordinate]\n",
        "img[100:200,0:300] = 255,0,0 #blue color\n",
        "img[200:300,0:300] = 0,0,255 #red color\n",
        "\n",
        "\n",
        "cv2.imshow('PRIMARY',img)\n",
        "cv2.waitKey(0)\n",
        "cv2.destroyAllWindows()\n"
      ],
      "metadata": {
        "id": "j45r4C66wO6k"
      },
      "execution_count": null,
      "outputs": []
    },
    {
      "cell_type": "code",
      "source": [
        "#10. RGB EXTRACTION\n",
        "# RED TINTED IMAGE\n",
        "\n",
        "import numpy as np\n",
        "import cv2\n",
        "img = cv2.imread('abc.jpg')\n",
        "cv2.imshow('ORIGINAL IMAGE',img)\n",
        "\n",
        "B,G,R = cv2.split(img)\n",
        "zeros = np.zeros(img.shape[:2],dtype = 'uint8')\n",
        "#uint8 - set the values in the range of 0 to 255\n",
        "#img.shape[:2] - it selects only length and breadth except the channel numeber\n",
        "\n",
        "cv2.imshow('RED TINTED IMAGE',cv2.merge([zeros,zeros,R]))\n",
        "\n",
        "cv2.waitKey(0)\n",
        "cv.destroyAllWindows()\n"
      ],
      "metadata": {
        "id": "I1vPA0gnwPxW"
      },
      "execution_count": null,
      "outputs": []
    },
    {
      "cell_type": "code",
      "source": [
        ""
      ],
      "metadata": {
        "id": "yTk1KE5Dz5i5"
      },
      "execution_count": null,
      "outputs": []
    }
  ]
}